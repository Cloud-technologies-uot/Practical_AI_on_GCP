{
  "nbformat": 4,
  "nbformat_minor": 0,
  "metadata": {
    "colab": {
      "name": "Chapter_4_NL_Sentiment.ipynb",
      "provenance": [],
      "include_colab_link": true
    },
    "kernelspec": {
      "name": "python3",
      "display_name": "Python 3"
    }
  },
  "cells": [
    {
      "cell_type": "markdown",
      "metadata": {
        "id": "view-in-github",
        "colab_type": "text"
      },
      "source": [
        "<a href=\"https://colab.research.google.com/github/cxbxmxcx/Practical_AI_on_GCP/blob/master/Chapter_4_NL_Sentiment.ipynb\" target=\"_parent\"><img src=\"https://colab.research.google.com/assets/colab-badge.svg\" alt=\"Open In Colab\"/></a>"
      ]
    },
    {
      "cell_type": "markdown",
      "metadata": {
        "id": "QCTJkH-zT4y-",
        "colab_type": "text"
      },
      "source": [
        "### Security\n",
        "\n",
        "First things first - we need to authenticate against the Google Cloud APIs.\n",
        "\n",
        "#### Getting a Google API Credential.\n",
        "\n",
        "First, visit <a href=\"http://console.cloud.google.com/apis\">API console</a>, choose \"Credentials\" on the left-hand menu.  Choose \"Create Credentials\" and generate an API key for your application. You should probably restrict it by IP address to prevent abuse, but for now, just  leave that field blank and delete the API key after trying out this demo.\n",
        "\n",
        "Then, when you have your key, you will enter it in this first executable cell:"
      ]
    },
    {
      "cell_type": "code",
      "metadata": {
        "id": "GPUuy3obTqT8",
        "colab_type": "code",
        "colab": {
          "base_uri": "https://localhost:8080/",
          "height": 34
        },
        "outputId": "c6086a60-e350-429f-8bc0-d4598d3bd8eb"
      },
      "source": [
        "import getpass\n",
        "\n",
        "APIKEY = getpass.getpass()"
      ],
      "execution_count": null,
      "outputs": [
        {
          "output_type": "stream",
          "text": [
            "··········\n"
          ],
          "name": "stdout"
        }
      ]
    },
    {
      "cell_type": "code",
      "metadata": {
        "id": "8R7pPhYI7evL",
        "colab_type": "code",
        "colab": {}
      },
      "source": [
        "from googleapiclient.discovery import build\n",
        "lservice = build('language', 'v1beta1', developerKey=APIKEY)\n",
        "\n",
        "quotes = [\n",
        "  'I\\'m afraid that the following syllogism may be used by some in the future. Turing believes machines think, Turing lies with men Therefore machines do not think', # Alan Turing\n",
        "  'The question of whether a computer can think is no more interesting than the question of whether a submarine can swim.', # Edsger W. Dijkstra\n",
        "  'By far the greatest danger of Artificial Intelligence is that people conclude too early that they understand it.', # Eliezer Yudkowsky\n",
        "  'What use was time to those who\\'d soon achieve Digital Immortality?', # Clyde Dsouza\n",
        "  'Primary aim of quantum artificial intelligence is to improve human freedom, dignity, equality, security, and total well-being.', # Amit Ray\n",
        "  'AI winters were not due to imagination traps, but due to lack of imaginations. Imaginations bring order out of chaos. Deep learning with deep imagination is the road map to AI springs and AI autumns.' # Amit Ray\n",
        "]"
      ],
      "execution_count": null,
      "outputs": []
    },
    {
      "cell_type": "code",
      "metadata": {
        "id": "9KOyiYKbUdDz",
        "colab_type": "code",
        "colab": {
          "base_uri": "https://localhost:8080/",
          "height": 268
        },
        "outputId": "e49523f6-344d-4e5d-ae87-a1f69563c482"
      },
      "source": [
        "for quote in quotes:\n",
        "  response = lservice.documents().analyzeSentiment(\n",
        "    body={\n",
        "      'document': {\n",
        "         'type': 'PLAIN_TEXT',\n",
        "         'content': quote\n",
        "      }\n",
        "    }).execute()\n",
        "  print(response)\n",
        "  polarity = response['documentSentiment']['polarity']\n",
        "  magnitude = response['documentSentiment']['magnitude']\n",
        "  print('POLARITY=%s MAGNITUDE=%s for %s' % (polarity, magnitude, quote))"
      ],
      "execution_count": null,
      "outputs": [
        {
          "output_type": "stream",
          "text": [
            "{'entities': [{'name': 'syllogism', 'type': 'OTHER', 'metadata': {}, 'salience': 0.41473144, 'mentions': [{'text': {'content': 'syllogism', 'beginOffset': -1}, 'type': 'COMMON'}]}, {'name': 'some', 'type': 'PERSON', 'metadata': {}, 'salience': 0.22704022, 'mentions': [{'text': {'content': 'some', 'beginOffset': -1}, 'type': 'COMMON'}]}, {'name': 'machines', 'type': 'OTHER', 'metadata': {}, 'salience': 0.12416418, 'mentions': [{'text': {'content': 'machines', 'beginOffset': -1}, 'type': 'COMMON'}]}, {'name': 'machines', 'type': 'OTHER', 'metadata': {}, 'salience': 0.094243616, 'mentions': [{'text': {'content': 'machines', 'beginOffset': -1}, 'type': 'COMMON'}]}, {'name': 'men', 'type': 'PERSON', 'metadata': {}, 'salience': 0.08300187, 'mentions': [{'text': {'content': 'men', 'beginOffset': -1}, 'type': 'COMMON'}]}, {'name': 'Turing', 'type': 'PERSON', 'metadata': {'mid': '/m/0n00', 'wikipedia_url': 'https://en.wikipedia.org/wiki/Alan_Turing'}, 'salience': 0.056818664, 'mentions': [{'text': {'content': 'Turing', 'beginOffset': -1}, 'type': 'PROPER'}, {'text': {'content': 'Turing', 'beginOffset': -1}, 'type': 'PROPER'}]}], 'language': 'en'}\n"
          ],
          "name": "stdout"
        },
        {
          "output_type": "error",
          "ename": "KeyError",
          "evalue": "ignored",
          "traceback": [
            "\u001b[0;31m---------------------------------------------------------------------------\u001b[0m",
            "\u001b[0;31mKeyError\u001b[0m                                  Traceback (most recent call last)",
            "\u001b[0;32m<ipython-input-9-5493fe40fb1e>\u001b[0m in \u001b[0;36m<module>\u001b[0;34m()\u001b[0m\n\u001b[1;32m      8\u001b[0m     }).execute()\n\u001b[1;32m      9\u001b[0m   \u001b[0mprint\u001b[0m\u001b[0;34m(\u001b[0m\u001b[0mresponse\u001b[0m\u001b[0;34m)\u001b[0m\u001b[0;34m\u001b[0m\u001b[0;34m\u001b[0m\u001b[0m\n\u001b[0;32m---> 10\u001b[0;31m   \u001b[0mpolarity\u001b[0m \u001b[0;34m=\u001b[0m \u001b[0mresponse\u001b[0m\u001b[0;34m[\u001b[0m\u001b[0;34m'documentSentiment'\u001b[0m\u001b[0;34m]\u001b[0m\u001b[0;34m[\u001b[0m\u001b[0;34m'polarity'\u001b[0m\u001b[0;34m]\u001b[0m\u001b[0;34m\u001b[0m\u001b[0;34m\u001b[0m\u001b[0m\n\u001b[0m\u001b[1;32m     11\u001b[0m   \u001b[0mmagnitude\u001b[0m \u001b[0;34m=\u001b[0m \u001b[0mresponse\u001b[0m\u001b[0;34m[\u001b[0m\u001b[0;34m'documentSentiment'\u001b[0m\u001b[0;34m]\u001b[0m\u001b[0;34m[\u001b[0m\u001b[0;34m'magnitude'\u001b[0m\u001b[0;34m]\u001b[0m\u001b[0;34m\u001b[0m\u001b[0;34m\u001b[0m\u001b[0m\n\u001b[1;32m     12\u001b[0m   \u001b[0mprint\u001b[0m\u001b[0;34m(\u001b[0m\u001b[0;34m'POLARITY=%s MAGNITUDE=%s for %s'\u001b[0m \u001b[0;34m%\u001b[0m \u001b[0;34m(\u001b[0m\u001b[0mpolarity\u001b[0m\u001b[0;34m,\u001b[0m \u001b[0mmagnitude\u001b[0m\u001b[0;34m,\u001b[0m \u001b[0mquote\u001b[0m\u001b[0;34m)\u001b[0m\u001b[0;34m)\u001b[0m\u001b[0;34m\u001b[0m\u001b[0;34m\u001b[0m\u001b[0m\n",
            "\u001b[0;31mKeyError\u001b[0m: 'documentSentiment'"
          ]
        }
      ]
    }
  ]
}