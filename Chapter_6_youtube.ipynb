{
  "nbformat": 4,
  "nbformat_minor": 0,
  "metadata": {
    "colab": {
      "name": "Chapter_6_youtube.ipynb",
      "provenance": [],
      "private_outputs": true,
      "include_colab_link": true
    },
    "kernelspec": {
      "name": "python3",
      "display_name": "Python 3"
    }
  },
  "cells": [
    {
      "cell_type": "markdown",
      "metadata": {
        "id": "view-in-github",
        "colab_type": "text"
      },
      "source": [
        "<a href=\"https://colab.research.google.com/github/cxbxmxcx/Practical_AI_on_GCP/blob/master/Chapter_6_youtube.ipynb\" target=\"_parent\"><img src=\"https://colab.research.google.com/assets/colab-badge.svg\" alt=\"Open In Colab\"/></a>"
      ]
    },
    {
      "cell_type": "code",
      "metadata": {
        "id": "9Bgt0FJ1zQUp",
        "colab_type": "code",
        "colab": {}
      },
      "source": [
        "!pip install --upgrade youtube_dl"
      ],
      "execution_count": null,
      "outputs": []
    },
    {
      "cell_type": "code",
      "metadata": {
        "id": "jOlMvheTzyM7",
        "colab_type": "code",
        "colab": {}
      },
      "source": [
        "from google.colab.patches import cv2_imshow\n",
        "import cv2\n",
        "import numpy as np\n",
        "import youtube_dl"
      ],
      "execution_count": null,
      "outputs": []
    },
    {
      "cell_type": "code",
      "metadata": {
        "id": "GdFSHfeX0A3e",
        "colab_type": "code",
        "colab": {}
      },
      "source": [
        "video_url = 'https://www.youtube.com/watch?v=t8tjT9MA7yU'\n",
        "\n",
        "download_options = {}\n",
        "download = youtube_dl.YoutubeDL(download_options)\n",
        "info_dict = download.extract_info(video_url, download=False)\n",
        "formats = info_dict.get('formats',None)\n",
        "\n",
        "for format in formats:\n",
        "  for k in format:\n",
        "    print(\"Key : {} , Value : {}\".format(k,format[k]))"
      ],
      "execution_count": null,
      "outputs": []
    },
    {
      "cell_type": "code",
      "metadata": {
        "id": "88rgM71M0N-_",
        "colab_type": "code",
        "colab": {}
      },
      "source": [
        "for f in formats:    \n",
        "  if f.get('format_note',None) == '144p':        \n",
        "    url = f.get('url',None)        \n",
        "    capture = cv2.VideoCapture(url)        \n",
        "    if not capture.isOpened():\n",
        "        print('video not opened')\n",
        "        exit(-1)\n",
        "\n",
        "    while True:            \n",
        "        ret, frame = capture.read()            \n",
        "        if not ret:\n",
        "            break\n",
        "            \n",
        "        cv2_imshow(frame)        \n",
        "        \n",
        "    capture.release()"
      ],
      "execution_count": null,
      "outputs": []
    }
  ]
}