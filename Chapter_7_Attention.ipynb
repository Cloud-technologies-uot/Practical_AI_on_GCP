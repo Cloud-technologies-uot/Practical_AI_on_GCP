{
  "nbformat": 4,
  "nbformat_minor": 0,
  "metadata": {
    "colab": {
      "name": "Chapter_7_Attention.ipynb",
      "provenance": [],
      "collapsed_sections": [],
      "authorship_tag": "ABX9TyMBwxTs8sYC64er2Y1OjwyQ",
      "include_colab_link": true
    },
    "kernelspec": {
      "name": "python3",
      "display_name": "Python 3"
    }
  },
  "cells": [
    {
      "cell_type": "markdown",
      "metadata": {
        "id": "view-in-github",
        "colab_type": "text"
      },
      "source": [
        "<a href=\"https://colab.research.google.com/github/cxbxmxcx/Practical_AI_on_GCP/blob/master/Chapter_7_Attention.ipynb\" target=\"_parent\"><img src=\"https://colab.research.google.com/assets/colab-badge.svg\" alt=\"Open In Colab\"/></a>"
      ]
    },
    {
      "cell_type": "code",
      "metadata": {
        "id": "t2uVq8lp3-n3",
        "colab_type": "code",
        "colab": {}
      },
      "source": [
        "import numpy as np\n",
        "import tensorflow as tf"
      ],
      "execution_count": 1,
      "outputs": []
    },
    {
      "cell_type": "markdown",
      "metadata": {
        "id": "CX-p97tk4MlB",
        "colab_type": "text"
      },
      "source": [
        "Create the initial set of inputs"
      ]
    },
    {
      "cell_type": "code",
      "metadata": {
        "id": "-eDW0je637Xm",
        "colab_type": "code",
        "colab": {}
      },
      "source": [
        "x = [\n",
        "  [1., 0., 1., 0.], # Input 1\n",
        "  [0., .5, 0., .5], # Input 2\n",
        "  [.75, .75, .75, .75]  # Input 3\n",
        " ]\n",
        "x = np.array(x)"
      ],
      "execution_count": 2,
      "outputs": []
    },
    {
      "cell_type": "markdown",
      "metadata": {
        "id": "B-VvP0hd4Q0S",
        "colab_type": "text"
      },
      "source": [
        "Initialize Key, Query and Value"
      ]
    },
    {
      "cell_type": "code",
      "metadata": {
        "id": "aLPmUxma4Kky",
        "colab_type": "code",
        "colab": {}
      },
      "source": [
        "w_key = [\n",
        "  [1, 1, 1],\n",
        "  [1, 1, 1],\n",
        "  [1, 1, 1],\n",
        "  [1, 1, 1]\n",
        "]\n",
        "w_query = [\n",
        "  [1, 0, 1],\n",
        "  [1, 0, 0],\n",
        "  [0, 0, 1],\n",
        "  [0, 1, 1]\n",
        "]\n",
        "w_value = [\n",
        "  [2, 2, 2],\n",
        "  [3, 3, 3],\n",
        "  [4, 4, 4],\n",
        "  [5, 5, 5]\n",
        "]\n",
        "\n",
        "w_key = np.array(w_key)\n",
        "w_query = np.array(w_query)\n",
        "w_value = np.array(w_value)"
      ],
      "execution_count": 3,
      "outputs": []
    },
    {
      "cell_type": "code",
      "metadata": {
        "id": "8RiXTuZV4WBg",
        "colab_type": "code",
        "colab": {
          "base_uri": "https://localhost:8080/",
          "height": 173
        },
        "outputId": "21b7deed-e6ea-4c60-8f84-2a582104ff5e"
      },
      "source": [
        "keys = x @ w_key\n",
        "querys = x @ w_query\n",
        "values = x @ w_value\n",
        "\n",
        "print(keys)\n",
        "print(querys)\n",
        "print(values)"
      ],
      "execution_count": 4,
      "outputs": [
        {
          "output_type": "stream",
          "text": [
            "[[2. 2. 2.]\n",
            " [1. 1. 1.]\n",
            " [3. 3. 3.]]\n",
            "[[1.   0.   2.  ]\n",
            " [0.5  0.5  0.5 ]\n",
            " [1.5  0.75 2.25]]\n",
            "[[ 6.   6.   6. ]\n",
            " [ 4.   4.   4. ]\n",
            " [10.5 10.5 10.5]]\n"
          ],
          "name": "stdout"
        }
      ]
    },
    {
      "cell_type": "markdown",
      "metadata": {
        "id": "UBeHy25s5LX_",
        "colab_type": "text"
      },
      "source": [
        "Calculate Attention Scores"
      ]
    },
    {
      "cell_type": "code",
      "metadata": {
        "id": "POMjoS_c4zoQ",
        "colab_type": "code",
        "colab": {
          "base_uri": "https://localhost:8080/",
          "height": 69
        },
        "outputId": "dffd6e4d-efba-45e2-f471-99b8a11498d3"
      },
      "source": [
        "attn_scores = (querys @ keys.T)\n",
        "print(attn_scores)"
      ],
      "execution_count": 5,
      "outputs": [
        {
          "output_type": "stream",
          "text": [
            "[[ 6.   3.   9. ]\n",
            " [ 3.   1.5  4.5]\n",
            " [ 9.   4.5 13.5]]\n"
          ],
          "name": "stdout"
        }
      ]
    },
    {
      "cell_type": "markdown",
      "metadata": {
        "id": "pmvjjuz-5Qk3",
        "colab_type": "text"
      },
      "source": [
        "Calculate Softmax over Attention"
      ]
    },
    {
      "cell_type": "code",
      "metadata": {
        "id": "8hOygqoO5Uhn",
        "colab_type": "code",
        "colab": {
          "base_uri": "https://localhost:8080/",
          "height": 69
        },
        "outputId": "deb2a3ea-1fa3-4a27-8468-50dd6c83b990"
      },
      "source": [
        "attn_scores_softmax = tf.nn.softmax(attn_scores, axis=-1).numpy()\n",
        "attn_scores_softmax = np.round(attn_scores_softmax, decimals=2)\n",
        "print(attn_scores_softmax)"
      ],
      "execution_count": 6,
      "outputs": [
        {
          "output_type": "stream",
          "text": [
            "[[0.05 0.   0.95]\n",
            " [0.18 0.04 0.79]\n",
            " [0.01 0.   0.99]]\n"
          ],
          "name": "stdout"
        }
      ]
    },
    {
      "cell_type": "markdown",
      "metadata": {
        "id": "1BxIakGXCOR7",
        "colab_type": "text"
      },
      "source": [
        "Scors * Values"
      ]
    },
    {
      "cell_type": "code",
      "metadata": {
        "id": "yaymhlXjCNZn",
        "colab_type": "code",
        "colab": {
          "base_uri": "https://localhost:8080/",
          "height": 207
        },
        "outputId": "d35ff79a-5d23-4bfa-8122-f4220c9096dc"
      },
      "source": [
        "weighted_values = values[:,None] * attn_scores_softmax.T[:,:,None]\n",
        "print(weighted_values)"
      ],
      "execution_count": 7,
      "outputs": [
        {
          "output_type": "stream",
          "text": [
            "[[[ 0.3    0.3    0.3  ]\n",
            "  [ 1.08   1.08   1.08 ]\n",
            "  [ 0.06   0.06   0.06 ]]\n",
            "\n",
            " [[ 0.     0.     0.   ]\n",
            "  [ 0.16   0.16   0.16 ]\n",
            "  [ 0.     0.     0.   ]]\n",
            "\n",
            " [[ 9.975  9.975  9.975]\n",
            "  [ 8.295  8.295  8.295]\n",
            "  [10.395 10.395 10.395]]]\n"
          ],
          "name": "stdout"
        }
      ]
    },
    {
      "cell_type": "markdown",
      "metadata": {
        "id": "kcM-qlo6Cawo",
        "colab_type": "text"
      },
      "source": [
        "Sum the weighted values"
      ]
    },
    {
      "cell_type": "code",
      "metadata": {
        "id": "WYYFukXXCaHu",
        "colab_type": "code",
        "colab": {
          "base_uri": "https://localhost:8080/",
          "height": 69
        },
        "outputId": "6d30453a-1e23-4c15-b0e8-b735330f6703"
      },
      "source": [
        "outputs = np.sum(weighted_values, axis=0)\n",
        "print(outputs)"
      ],
      "execution_count": 8,
      "outputs": [
        {
          "output_type": "stream",
          "text": [
            "[[10.275 10.275 10.275]\n",
            " [ 9.535  9.535  9.535]\n",
            " [10.455 10.455 10.455]]\n"
          ],
          "name": "stdout"
        }
      ]
    }
  ]
}