{
  "nbformat": 4,
  "nbformat_minor": 0,
  "metadata": {
    "colab": {
      "name": "Chapter_7_Attention.ipynb",
      "provenance": [],
      "collapsed_sections": [],
      "authorship_tag": "ABX9TyMBwxTs8sYC64er2Y1OjwyQ",
      "include_colab_link": true
    },
    "kernelspec": {
      "name": "python3",
      "display_name": "Python 3"
    }
  },
  "cells": [
    {
      "cell_type": "markdown",
      "metadata": {
        "id": "view-in-github",
        "colab_type": "text"
      },
      "source": [
        "<a href=\"https://colab.research.google.com/github/cxbxmxcx/Practical_AI_on_GCP/blob/master/Chapter_7_Attention.ipynb\" target=\"_parent\"><img src=\"https://colab.research.google.com/assets/colab-badge.svg\" alt=\"Open In Colab\"/></a>"
      ]
    },
    {
      "cell_type": "code",
      "metadata": {
        "id": "t2uVq8lp3-n3",
        "colab_type": "code",
        "colab": {}
      },
      "source": [
        "import numpy as np\n",
        "import tensorflow as tf"
      ],
      "execution_count": null,
      "outputs": []
    },
    {
      "cell_type": "markdown",
      "metadata": {
        "id": "CX-p97tk4MlB",
        "colab_type": "text"
      },
      "source": [
        "Create the initial set of inputs"
      ]
    },
    {
      "cell_type": "code",
      "metadata": {
        "id": "-eDW0je637Xm",
        "colab_type": "code",
        "colab": {}
      },
      "source": [
        "x = [\n",
        "  [1., 0., 1., 0.], # Input 1\n",
        "  [0., .5, 0., .5], # Input 2\n",
        "  [.75, .75, .75, .75]  # Input 3\n",
        " ]\n",
        "x = np.array(x)"
      ],
      "execution_count": null,
      "outputs": []
    },
    {
      "cell_type": "markdown",
      "metadata": {
        "id": "B-VvP0hd4Q0S",
        "colab_type": "text"
      },
      "source": [
        "Initialize Key, Query and Value"
      ]
    },
    {
      "cell_type": "code",
      "metadata": {
        "id": "aLPmUxma4Kky",
        "colab_type": "code",
        "colab": {}
      },
      "source": [
        "w_key = [\n",
        "  [1, 1, 1],\n",
        "  [1, 1, 1],\n",
        "  [1, 1, 1],\n",
        "  [1, 1, 1]\n",
        "]\n",
        "w_query = [\n",
        "  [1, 0, 1],\n",
        "  [1, 0, 0],\n",
        "  [0, 0, 1],\n",
        "  [0, 1, 1]\n",
        "]\n",
        "w_value = [\n",
        "  [2, 2, 2],\n",
        "  [3, 3, 3],\n",
        "  [4, 4, 4],\n",
        "  [5, 5, 5]\n",
        "]\n",
        "\n",
        "w_key = np.array(w_key)\n",
        "w_query = np.array(w_query)\n",
        "w_value = np.array(w_value)"
      ],
      "execution_count": null,
      "outputs": []
    },
    {
      "cell_type": "code",
      "metadata": {
        "id": "8RiXTuZV4WBg",
        "colab_type": "code",
        "colab": {}
      },
      "source": [
        "keys = x @ w_key\n",
        "querys = x @ w_query\n",
        "values = x @ w_value\n",
        "\n",
        "print(keys)\n",
        "print(querys)\n",
        "print(values)"
      ],
      "execution_count": null,
      "outputs": []
    },
    {
      "cell_type": "markdown",
      "metadata": {
        "id": "UBeHy25s5LX_",
        "colab_type": "text"
      },
      "source": [
        "Calculate Attention Scores"
      ]
    },
    {
      "cell_type": "code",
      "metadata": {
        "id": "POMjoS_c4zoQ",
        "colab_type": "code",
        "colab": {}
      },
      "source": [
        "attn_scores = (querys @ keys.T)\n",
        "print(attn_scores)"
      ],
      "execution_count": null,
      "outputs": []
    },
    {
      "cell_type": "markdown",
      "metadata": {
        "id": "pmvjjuz-5Qk3",
        "colab_type": "text"
      },
      "source": [
        "Calculate Softmax over Attention"
      ]
    },
    {
      "cell_type": "code",
      "metadata": {
        "id": "8hOygqoO5Uhn",
        "colab_type": "code",
        "colab": {}
      },
      "source": [
        "attn_scores_softmax = tf.nn.softmax(attn_scores, axis=-1).numpy()\n",
        "attn_scores_softmax = np.round(attn_scores_softmax, decimals=2)\n",
        "print(attn_scores_softmax)"
      ],
      "execution_count": null,
      "outputs": []
    },
    {
      "cell_type": "markdown",
      "metadata": {
        "id": "1BxIakGXCOR7",
        "colab_type": "text"
      },
      "source": [
        "Scors * Values"
      ]
    },
    {
      "cell_type": "code",
      "metadata": {
        "id": "yaymhlXjCNZn",
        "colab_type": "code",
        "colab": {}
      },
      "source": [
        "weighted_values = values[:,None] * attn_scores_softmax.T[:,:,None]\n",
        "print(weighted_values)"
      ],
      "execution_count": null,
      "outputs": []
    },
    {
      "cell_type": "markdown",
      "metadata": {
        "id": "kcM-qlo6Cawo",
        "colab_type": "text"
      },
      "source": [
        "Sum the weighted values"
      ]
    },
    {
      "cell_type": "code",
      "metadata": {
        "id": "WYYFukXXCaHu",
        "colab_type": "code",
        "colab": {}
      },
      "source": [
        "outputs = np.sum(weighted_values, axis=0)\n",
        "print(outputs)"
      ],
      "execution_count": null,
      "outputs": []
    }
  ]
}