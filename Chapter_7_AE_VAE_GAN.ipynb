{
  "nbformat": 4,
  "nbformat_minor": 0,
  "metadata": {
    "colab": {
      "name": "Chapter_7_AE_VAE_GAN.ipynb",
      "provenance": [],
      "authorship_tag": "ABX9TyPdQte046xa0E1Lby1NIzqy",
      "include_colab_link": true
    },
    "kernelspec": {
      "name": "python3",
      "display_name": "Python 3"
    },
    "accelerator": "GPU"
  },
  "cells": [
    {
      "cell_type": "markdown",
      "metadata": {
        "id": "view-in-github",
        "colab_type": "text"
      },
      "source": [
        "<a href=\"https://colab.research.google.com/github/cxbxmxcx/Practical_AI_on_GCP/blob/master/Chapter_7_AE_VAE_GAN.ipynb\" target=\"_parent\"><img src=\"https://colab.research.google.com/assets/colab-badge.svg\" alt=\"Open In Colab\"/></a>"
      ]
    },
    {
      "cell_type": "markdown",
      "metadata": {
        "id": "Lr6FLZSJ7nW-",
        "colab_type": "text"
      },
      "source": [
        "Initial Setup"
      ]
    },
    {
      "cell_type": "code",
      "metadata": {
        "id": "_Zupc9ni7Vn1",
        "colab_type": "code",
        "colab": {}
      },
      "source": [
        "### install necessary packages if in colab\n",
        "def run_subprocess_command(cmd):\n",
        "    process = subprocess.Popen(cmd.split(), stdout=subprocess.PIPE)\n",
        "    for line in process.stdout:\n",
        "        print(line.decode().strip())\n",
        "\n",
        "\n",
        "import sys, subprocess\n",
        "\n",
        "IN_COLAB = \"google.colab\" in sys.modules\n",
        "colab_requirements = [\"pip install tf-nightly-gpu-2.0-preview==2.0.0.dev20190513\"]\n",
        "if IN_COLAB:\n",
        "    for i in colab_requirements:\n",
        "        run_subprocess_command(i)"
      ],
      "execution_count": 27,
      "outputs": []
    },
    {
      "cell_type": "markdown",
      "metadata": {
        "id": "SMGfjIfw7rmD",
        "colab_type": "text"
      },
      "source": [
        "Imports and other setup"
      ]
    },
    {
      "cell_type": "code",
      "metadata": {
        "id": "pDtDvs-_7qN1",
        "colab_type": "code",
        "colab": {
          "base_uri": "https://localhost:8080/",
          "height": 69
        },
        "outputId": "3db04300-1cf2-4ec1-bd56-1d3670cebae7"
      },
      "source": [
        "from __future__ import absolute_import, division, print_function, unicode_literals\n",
        "\n",
        "import numpy as np\n",
        "import matplotlib.pyplot as plt\n",
        "import tensorflow as tf\n",
        "import numpy as np\n",
        "from tensorflow.keras.datasets import mnist\n",
        "from tensorflow.keras import layers, models, Input, Model\n",
        "from tensorflow.keras.callbacks import EarlyStopping\n",
        "\n",
        "from imgaug import augmenters\n",
        "from tqdm.autonotebook import tqdm\n",
        "import pandas as pd\n",
        "# the nightly build of tensorflow_probability is required as of the time of writing this \n",
        "import tensorflow_probability as tfp\n",
        "ds = tfp.distributions\n",
        "\n",
        "%matplotlib inline\n",
        "from IPython import display\n",
        "import matplotlib.pyplot as plt\n",
        "plt.gray()\n",
        "\n",
        "print('TensorFlow version:', tf.__version__)\n",
        "print('Is Executing Eagerly?', tf.executing_eagerly())"
      ],
      "execution_count": 28,
      "outputs": [
        {
          "output_type": "stream",
          "text": [
            "TensorFlow version: 2.2.0\n",
            "Is Executing Eagerly? True\n"
          ],
          "name": "stdout"
        },
        {
          "output_type": "display_data",
          "data": {
            "text/plain": [
              "<Figure size 432x288 with 0 Axes>"
            ]
          },
          "metadata": {
            "tags": []
          }
        }
      ]
    },
    {
      "cell_type": "markdown",
      "metadata": {
        "id": "M0RfbGcU8q6D",
        "colab_type": "text"
      },
      "source": [
        "CONSTANTS"
      ]
    },
    {
      "cell_type": "code",
      "metadata": {
        "id": "0nuf_xNE8s0J",
        "colab_type": "code",
        "colab": {}
      },
      "source": [
        "TRAIN_BUF=60000\n",
        "BATCH_SIZE=512\n",
        "TEST_BUF=10000\n",
        "DIMS = (28,28,1)\n",
        "N_TRAIN_BATCHES =int(TRAIN_BUF/BATCH_SIZE)\n",
        "N_TEST_BATCHES = int(TEST_BUF/BATCH_SIZE)"
      ],
      "execution_count": 29,
      "outputs": []
    },
    {
      "cell_type": "markdown",
      "metadata": {
        "id": "ew02NVRk8gzm",
        "colab_type": "text"
      },
      "source": [
        "Load Fashion Data"
      ]
    },
    {
      "cell_type": "code",
      "metadata": {
        "id": "WVt0CcAj8jii",
        "colab_type": "code",
        "colab": {}
      },
      "source": [
        "# load dataset\n",
        "(train_images, train_labels), (test_images, test_labels) = tf.keras.datasets.fashion_mnist.load_data()\n",
        "\n",
        "# split dataset\n",
        "train_images = train_images.reshape(train_images.shape[0], 28, 28, 1).astype(\"float32\") / 255.0\n",
        "test_images = test_images.reshape(test_images.shape[0], 28, 28, 1).astype(\"float32\") / 255.0\n",
        "\n",
        "# batch datasets\n",
        "train_dataset = (\n",
        "    tf.data.Dataset.from_tensor_slices(train_images)\n",
        "    .shuffle(TRAIN_BUF)\n",
        "    .batch(BATCH_SIZE)\n",
        ")\n",
        "test_dataset = (\n",
        "    tf.data.Dataset.from_tensor_slices(test_images)\n",
        "    .shuffle(TEST_BUF)\n",
        "    .batch(BATCH_SIZE)\n",
        ")"
      ],
      "execution_count": 30,
      "outputs": []
    },
    {
      "cell_type": "markdown",
      "metadata": {
        "id": "G4a6JK-amsHi",
        "colab_type": "text"
      },
      "source": [
        "Setup class names and labels for visualization, not training"
      ]
    },
    {
      "cell_type": "code",
      "metadata": {
        "id": "m_tNwyn0mxJr",
        "colab_type": "code",
        "colab": {}
      },
      "source": [
        "class_names = ['T-shirt/top', 'Trouser', 'Pullover', 'Dress', 'Coat',\n",
        "               'Sandal', 'Shirt', 'Sneaker', 'Bag', 'Ankle boot']"
      ],
      "execution_count": 31,
      "outputs": []
    },
    {
      "cell_type": "markdown",
      "metadata": {
        "id": "zoUkmn5Z9XpW",
        "colab_type": "text"
      },
      "source": [
        "Plot some images."
      ]
    },
    {
      "cell_type": "code",
      "metadata": {
        "id": "n5hq3JD79aQv",
        "colab_type": "code",
        "colab": {
          "base_uri": "https://localhost:8080/",
          "height": 1000
        },
        "outputId": "c15c942f-990f-4ac6-ba2e-124625d33d19"
      },
      "source": [
        "import math\n",
        "\n",
        "def plot_data(num_images, images, labels):\n",
        "  grid = math.ceil(math.sqrt(num_images))\n",
        "  plt.figure(figsize=(grid*2,grid*2))\n",
        "  for i in range(num_images):\n",
        "      plt.subplot(grid,grid,i+1)\n",
        "      plt.xticks([])\n",
        "      plt.yticks([])\n",
        "      plt.grid(False)     \n",
        "      plt.imshow(images[i].reshape(28,28))\n",
        "      plt.xlabel(class_names[labels[i]])      \n",
        "  plt.show()\n",
        "\n",
        "plot_data(25, train_images, train_labels)\n",
        "plot_data(25, test_images, test_labels)"
      ],
      "execution_count": 32,
      "outputs": [
        {
          "output_type": "display_data",
          "data": {
            "image/png": "[encoded data removed]",
            "text/plain": [
              "<Figure size 720x720 with 25 Axes>"
            ]
          },
          "metadata": {
            "tags": []
          }
        },
        {
          "output_type": "display_data",
          "data": {
            "image/png": "[encoded data removed]",
            "text/plain": [
              "<Figure size 720x720 with 25 Axes>"
            ]
          },
          "metadata": {
            "tags": []
          }
        }
      ]
    },
    {
      "cell_type": "markdown",
      "metadata": {
        "id": "FAZZv0Ezn-Cv",
        "colab_type": "text"
      },
      "source": [
        "Add some noise"
      ]
    },
    {
      "cell_type": "code",
      "metadata": {
        "id": "7kBG7niKoBN6",
        "colab_type": "code",
        "colab": {}
      },
      "source": [
        "noise = augmenters.SaltAndPepper(0.1)\n",
        "seq_object = augmenters.Sequential([noise])\n",
        "\n",
        "train_x_n = seq_object.augment_images(train_images * 255) / 255\n",
        "test_x_n = seq_object.augment_images(test_images * 255) / 255"
      ],
      "execution_count": null,
      "outputs": []
    },
    {
      "cell_type": "markdown",
      "metadata": {
        "id": "VMbWByGnospm",
        "colab_type": "text"
      },
      "source": [
        "Output the images again"
      ]
    },
    {
      "cell_type": "code",
      "metadata": {
        "id": "1Xhc8UDUoxFK",
        "colab_type": "code",
        "colab": {}
      },
      "source": [
        "plot_data(25, train_x_n, train_labels)\n",
        "plot_data(25, test_x_n, test_labels)"
      ],
      "execution_count": null,
      "outputs": []
    },
    {
      "cell_type": "markdown",
      "metadata": {
        "id": "N8odmpoCwtIO",
        "colab_type": "text"
      },
      "source": [
        "STAGE 1: Auto-encoders"
      ]
    },
    {
      "cell_type": "markdown",
      "metadata": {
        "id": "hRQ6OzSNpLJx",
        "colab_type": "text"
      },
      "source": [
        "Build the Encoder"
      ]
    },
    {
      "cell_type": "code",
      "metadata": {
        "id": "efscot4HpN3i",
        "colab_type": "code",
        "colab": {}
      },
      "source": [
        "# input layer\n",
        "input_layer = Input(shape=(28, 28, 1))\n",
        "\n",
        "# encoding architecture\n",
        "encoded_layer1 = layers.Conv2D(64, (3, 3), activation='relu', padding='same')(input_layer)\n",
        "encoded_layer1 = layers.MaxPool2D( (2, 2), padding='same')(encoded_layer1)\n",
        "encoded_layer2 = layers.Conv2D(32, (3, 3), activation='relu', padding='same')(encoded_layer1)\n",
        "encoded_layer2 = layers.MaxPool2D( (2, 2), padding='same')(encoded_layer2)\n",
        "encoded_layer3 = layers.Conv2D(16, (3, 3), activation='relu', padding='same')(encoded_layer2)\n",
        "latent_view    = layers.MaxPool2D( (2, 2), padding='same')(encoded_layer3)"
      ],
      "execution_count": null,
      "outputs": []
    },
    {
      "cell_type": "markdown",
      "metadata": {
        "id": "D4QFajN_qIKP",
        "colab_type": "text"
      },
      "source": [
        "Build the Decoder"
      ]
    },
    {
      "cell_type": "code",
      "metadata": {
        "id": "PXuiAj9IqKbb",
        "colab_type": "code",
        "colab": {}
      },
      "source": [
        "#decoding architecture\n",
        "decoded_layer1 = layers.Conv2D(16, (3, 3), activation='relu', padding='same')(latent_view)\n",
        "decoded_layer1 = layers.UpSampling2D((2, 2))(decoded_layer1)\n",
        "decoded_layer2 = layers.Conv2D(32, (3, 3), activation='relu', padding='same')(decoded_layer1)\n",
        "decoded_layer2 = layers.UpSampling2D((2, 2))(decoded_layer2)\n",
        "decoded_layer3 = layers.Conv2D(64, (3, 3), activation='relu')(decoded_layer2)\n",
        "decoded_layer3 = layers.UpSampling2D((2, 2))(decoded_layer3)\n",
        "#output layer\n",
        "output_layer   = layers.Conv2D(1, (3, 3), padding='same')(decoded_layer3)"
      ],
      "execution_count": null,
      "outputs": []
    },
    {
      "cell_type": "markdown",
      "metadata": {
        "id": "Ks0eEtdbqas0",
        "colab_type": "text"
      },
      "source": [
        "Build the Model"
      ]
    },
    {
      "cell_type": "code",
      "metadata": {
        "id": "8eV6oxGlqdWp",
        "colab_type": "code",
        "colab": {}
      },
      "source": [
        "# compile the model\n",
        "model = Model(input_layer, output_layer)\n",
        "model.compile(optimizer='adam', loss='mse')\n",
        "model.summary()"
      ],
      "execution_count": null,
      "outputs": []
    },
    {
      "cell_type": "markdown",
      "metadata": {
        "id": "aBUzVGm4rSG1",
        "colab_type": "text"
      },
      "source": [
        "Train the model"
      ]
    },
    {
      "cell_type": "code",
      "metadata": {
        "id": "RS2V2abQrUEf",
        "colab_type": "code",
        "colab": {}
      },
      "source": [
        "early_stopping = EarlyStopping(monitor='val_loss', min_delta=0, patience=10, verbose=5, mode='auto')\n",
        "history = model.fit(train_x_n, train_images, epochs=200, batch_size=2048, validation_data=(test_x_n, test_images), callbacks=[early_stopping])"
      ],
      "execution_count": null,
      "outputs": []
    },
    {
      "cell_type": "markdown",
      "metadata": {
        "id": "gA5RO7W0tJZ1",
        "colab_type": "text"
      },
      "source": [
        "Predict some results"
      ]
    },
    {
      "cell_type": "code",
      "metadata": {
        "id": "d8TcnBiitLkx",
        "colab_type": "code",
        "colab": {}
      },
      "source": [
        "n = np.random.randint(0,len(test_images)-25)\n",
        "preds = model.predict(test_x_n[n:n+25])\n",
        "\n",
        "preds = preds.reshape(-1, 28, 28, 1)\n",
        "plot_data(25, preds, test_labels[n:n+25])"
      ],
      "execution_count": null,
      "outputs": []
    },
    {
      "cell_type": "markdown",
      "metadata": {
        "id": "coF-8t6iwdAP",
        "colab_type": "text"
      },
      "source": [
        "STAGE 2: Varational Auto-encoder"
      ]
    },
    {
      "cell_type": "code",
      "metadata": {
        "id": "b3eVKpLMt7NZ",
        "colab_type": "code",
        "colab": {}
      },
      "source": [
        "class VAE(tf.keras.Model):\n",
        "    \"\"\"a basic vae class for tensorflow\n",
        "    Extends:\n",
        "        tf.keras.Model\n",
        "    \"\"\"\n",
        "\n",
        "    def __init__(self, **kwargs):\n",
        "        super(VAE, self).__init__()\n",
        "        self.__dict__.update(kwargs)\n",
        "\n",
        "        self.enc = tf.keras.Sequential(self.enc)\n",
        "        self.dec = tf.keras.Sequential(self.dec)\n",
        "\n",
        "    def encode(self, x):\n",
        "        mu, sigma = tf.split(self.enc(x), num_or_size_splits=2, axis=1)\n",
        "        return ds.MultivariateNormalDiag(loc=mu, scale_diag=sigma)\n",
        "\n",
        "    def reparameterize(self, mean, logvar):\n",
        "        eps = tf.random.normal(shape=mean.shape)\n",
        "        return eps * tf.exp(logvar * 0.5) + mean\n",
        "\n",
        "    def reconstruct(self, x):\n",
        "        mu, _ = tf.split(self.enc(x), num_or_size_splits=2, axis=1)\n",
        "        return self.decode(mu)\n",
        "\n",
        "    def decode(self, z):\n",
        "        return self.dec(z)\n",
        "\n",
        "    def compute_loss(self, x):\n",
        "        q_z = self.encode(x)\n",
        "        z = q_z.sample()\n",
        "        x_recon = self.decode(z)\n",
        "        p_z = ds.MultivariateNormalDiag(\n",
        "          loc=[0.] * z.shape[-1], scale_diag=[1.] * z.shape[-1]\n",
        "          )\n",
        "        kl_div = ds.kl_divergence(q_z, p_z)\n",
        "        latent_loss = tf.reduce_mean(tf.maximum(kl_div, 0))\n",
        "        recon_loss = tf.reduce_mean(tf.reduce_sum(tf.math.square(x - x_recon), axis=0))\n",
        "\n",
        "        return recon_loss, latent_loss\n",
        "\n",
        "    def compute_gradients(self, x):\n",
        "        with tf.GradientTape() as tape:\n",
        "            loss = self.compute_loss(x)\n",
        "        return tape.gradient(loss, self.trainable_variables)\n",
        "\n",
        "    @tf.function\n",
        "    def train(self, train_x):\n",
        "        gradients = self.compute_gradients(train_x)\n",
        "        self.optimizer.apply_gradients(zip(gradients, self.trainable_variables))"
      ],
      "execution_count": null,
      "outputs": []
    },
    {
      "cell_type": "markdown",
      "metadata": {
        "id": "GVHMOzdVwz0J",
        "colab_type": "text"
      },
      "source": [
        "Setup Encoder / Decoder"
      ]
    },
    {
      "cell_type": "code",
      "metadata": {
        "id": "_BbhgPeut6Zm",
        "colab_type": "code",
        "colab": {}
      },
      "source": [
        "N_Z = 2\n",
        "encoder = [\n",
        "    tf.keras.layers.InputLayer(input_shape=DIMS),\n",
        "    tf.keras.layers.Conv2D(\n",
        "        filters=32, kernel_size=3, strides=(2, 2), activation=\"relu\"\n",
        "    ),\n",
        "    tf.keras.layers.Conv2D(\n",
        "        filters=64, kernel_size=3, strides=(2, 2), activation=\"relu\"\n",
        "    ),\n",
        "    tf.keras.layers.Flatten(),\n",
        "    tf.keras.layers.Dense(units=N_Z*2),\n",
        "]\n",
        "\n",
        "decoder = [\n",
        "    tf.keras.layers.Dense(units=7 * 7 * 64, activation=\"relu\"),\n",
        "    tf.keras.layers.Reshape(target_shape=(7, 7, 64)),\n",
        "    tf.keras.layers.Conv2DTranspose(\n",
        "        filters=64, kernel_size=3, strides=(2, 2), padding=\"SAME\", activation=\"relu\"\n",
        "    ),\n",
        "    tf.keras.layers.Conv2DTranspose(\n",
        "        filters=32, kernel_size=3, strides=(2, 2), padding=\"SAME\", activation=\"relu\"\n",
        "    ),\n",
        "    tf.keras.layers.Conv2DTranspose(\n",
        "        filters=1, kernel_size=3, strides=(1, 1), padding=\"SAME\", activation=\"sigmoid\"\n",
        "    ),\n",
        "]"
      ],
      "execution_count": null,
      "outputs": []
    },
    {
      "cell_type": "markdown",
      "metadata": {
        "id": "MgldQ_581c8w",
        "colab_type": "text"
      },
      "source": [
        "Create the model"
      ]
    },
    {
      "cell_type": "code",
      "metadata": {
        "id": "lET4Y13bu6Gt",
        "colab_type": "code",
        "colab": {}
      },
      "source": [
        "# the optimizer for the model\n",
        "optimizer = tf.keras.optimizers.Adam(1e-3)\n",
        "# train the model\n",
        "model = VAE(\n",
        "    enc = encoder,\n",
        "    dec = decoder,\n",
        "    optimizer = optimizer,\n",
        ")\n"
      ],
      "execution_count": null,
      "outputs": []
    },
    {
      "cell_type": "markdown",
      "metadata": {
        "id": "ECufi191v7rZ",
        "colab_type": "text"
      },
      "source": [
        "Plot reconstruction for viewing ouput"
      ]
    },
    {
      "cell_type": "code",
      "metadata": {
        "id": "YGgdccLLv_wD",
        "colab_type": "code",
        "colab": {}
      },
      "source": [
        "# exampled data for plotting results\n",
        "example_data = next(iter(test_dataset))\n",
        "\n",
        "def plot_reconstruction(model, example_data, nex=8, zm=2):\n",
        "    example_data_reconstructed = model.reconstruct(example_data)\n",
        "    samples = model.decode(tf.random.normal(shape=(BATCH_SIZE, N_Z)))\n",
        "    fig, axs = plt.subplots(ncols=nex, nrows=3, figsize=(zm * nex, zm * 3))\n",
        "    for axi, (dat, lab) in enumerate(\n",
        "        zip(\n",
        "            [example_data, example_data_reconstructed, samples],\n",
        "            [\"data\", \"data recon\", \"samples\"],\n",
        "        )\n",
        "    ):\n",
        "        for ex in range(nex):\n",
        "            axs[axi, ex].matshow(\n",
        "                dat.numpy()[ex].squeeze(), cmap=plt.cm.Greys, vmin=0, vmax=1\n",
        "            )\n",
        "            axs[axi, ex].axes.get_xaxis().set_ticks([])\n",
        "            axs[axi, ex].axes.get_yaxis().set_ticks([])\n",
        "        axs[axi, 0].set_ylabel(lab)\n",
        "\n",
        "    plt.show()"
      ],
      "execution_count": null,
      "outputs": []
    },
    {
      "cell_type": "code",
      "metadata": {
        "id": "Q67sDSZpwKjv",
        "colab_type": "code",
        "colab": {}
      },
      "source": [
        "# a pandas dataframe to save the loss information to\n",
        "losses = pd.DataFrame(columns = ['recon_loss', 'latent_loss'])"
      ],
      "execution_count": null,
      "outputs": []
    },
    {
      "cell_type": "markdown",
      "metadata": {
        "id": "oqgSpRudwR3p",
        "colab_type": "text"
      },
      "source": [
        "Train the model"
      ]
    },
    {
      "cell_type": "code",
      "metadata": {
        "id": "dZQMEEYuwU8Z",
        "colab_type": "code",
        "colab": {}
      },
      "source": [
        "n_epochs = 50\n",
        "for epoch in range(n_epochs):\n",
        "    # train\n",
        "    for batch, train_x in tqdm(\n",
        "        zip(range(N_TRAIN_BATCHES), train_dataset), total=N_TRAIN_BATCHES\n",
        "    ):\n",
        "        model.train(train_x)\n",
        "    # test on holdout\n",
        "    loss = []\n",
        "    for batch, test_x in tqdm(\n",
        "        zip(range(N_TEST_BATCHES), test_dataset), total=N_TEST_BATCHES\n",
        "    ):\n",
        "        loss.append(model.compute_loss(train_x))\n",
        "    losses.loc[len(losses)] = np.mean(loss, axis=0)\n",
        "    # plot results\n",
        "    display.clear_output()\n",
        "    print(\n",
        "        \"Epoch: {} | recon_loss: {} | latent_loss: {}\".format(\n",
        "            epoch, losses.recon_loss.values[-1], losses.latent_loss.values[-1]\n",
        "        )\n",
        "    )\n",
        "    plot_reconstruction(model, example_data)"
      ],
      "execution_count": null,
      "outputs": []
    },
    {
      "cell_type": "markdown",
      "metadata": {
        "id": "1KnoI5i3xT0I",
        "colab_type": "text"
      },
      "source": [
        "Plot across the latent space"
      ]
    },
    {
      "cell_type": "code",
      "metadata": {
        "id": "t3aoCBXYxYGa",
        "colab_type": "code",
        "colab": {}
      },
      "source": [
        "# sample from grid\n",
        "nx = ny =10\n",
        "meshgrid = np.meshgrid(np.linspace(-3, 3, nx), np.linspace(-3, 3, ny))\n",
        "meshgrid = np.array(meshgrid).reshape(2, nx*ny).T\n",
        "x_grid = model.decode(meshgrid)\n",
        "x_grid = x_grid.numpy().reshape(nx, ny, 28,28, 1)\n",
        "# fill canvas\n",
        "canvas = np.zeros((nx*28, ny*28))\n",
        "for xi in range(nx):\n",
        "    for yi in range(ny):\n",
        "        canvas[xi*28:xi*28+28, yi*28:yi*28+28] = x_grid[xi, yi,:,:,:].squeeze()\n",
        "fig, ax = plt.subplots(figsize=(10,10))\n",
        "ax.matshow(canvas, cmap=plt.cm.Greys)\n",
        "ax.axis('off')"
      ],
      "execution_count": null,
      "outputs": []
    },
    {
      "cell_type": "markdown",
      "metadata": {
        "id": "eA8h0rd3zR_D",
        "colab_type": "text"
      },
      "source": [
        "Part 3: The GAN"
      ]
    },
    {
      "cell_type": "code",
      "metadata": {
        "id": "0ezmnH0YzV1V",
        "colab_type": "code",
        "colab": {}
      },
      "source": [
        "class GAN(tf.keras.Model):\n",
        "    \"\"\" a basic GAN class \n",
        "    Extends:\n",
        "        tf.keras.Model\n",
        "    \"\"\"\n",
        "\n",
        "    def __init__(self, **kwargs):\n",
        "        super(GAN, self).__init__()\n",
        "        self.__dict__.update(kwargs)\n",
        "\n",
        "        self.gen = tf.keras.Sequential(self.gen)\n",
        "        self.disc = tf.keras.Sequential(self.disc)\n",
        "\n",
        "    def generate(self, z):\n",
        "        return self.gen(z)\n",
        "\n",
        "    def discriminate(self, x):\n",
        "        return self.disc(x)\n",
        "\n",
        "    def compute_loss(self, x):\n",
        "        \"\"\" passes through the network and computes loss\n",
        "        \"\"\"\n",
        "        # generating noise from a uniform distribution\n",
        "        z_samp = tf.random.normal([x.shape[0], 1, 1, self.n_Z])\n",
        "\n",
        "        # run noise through generator\n",
        "        x_gen = self.generate(z_samp)\n",
        "        # discriminate x and x_gen\n",
        "        logits_x = self.discriminate(x)\n",
        "        logits_x_gen = self.discriminate(x_gen)\n",
        "        ### losses\n",
        "        # losses of real with label \"1\"\n",
        "        disc_real_loss = gan_loss(logits=logits_x, is_real=True)\n",
        "        # losses of fake with label \"0\"\n",
        "        disc_fake_loss = gan_loss(logits=logits_x_gen, is_real=False)\n",
        "        disc_loss = disc_fake_loss + disc_real_loss\n",
        "\n",
        "        # losses of fake with label \"1\"\n",
        "        gen_loss = gan_loss(logits=logits_x_gen, is_real=True)\n",
        "\n",
        "        return disc_loss, gen_loss\n",
        "\n",
        "    def compute_gradients(self, x):\n",
        "        \"\"\" passes through the network and computes loss\n",
        "        \"\"\"\n",
        "        ### pass through network\n",
        "        with tf.GradientTape() as gen_tape, tf.GradientTape() as disc_tape:\n",
        "            disc_loss, gen_loss = self.compute_loss(x)\n",
        "\n",
        "        # compute gradients\n",
        "        gen_gradients = gen_tape.gradient(gen_loss, self.gen.trainable_variables)\n",
        "        disc_gradients = disc_tape.gradient(disc_loss, self.disc.trainable_variables)\n",
        "\n",
        "        return gen_gradients, disc_gradients\n",
        "\n",
        "    def apply_gradients(self, gen_gradients, disc_gradients):\n",
        "\n",
        "        self.gen_optimizer.apply_gradients(\n",
        "            zip(gen_gradients, self.gen.trainable_variables)\n",
        "        )\n",
        "        self.disc_optimizer.apply_gradients(\n",
        "            zip(disc_gradients, self.disc.trainable_variables)\n",
        "        )\n",
        "    @tf.function\n",
        "    def train(self, train_x):\n",
        "        gen_gradients, disc_gradients = self.compute_gradients(train_x)\n",
        "        self.apply_gradients(gen_gradients, disc_gradients)\n",
        "        \n",
        "        \n",
        "def gan_loss(logits, is_real=True):\n",
        "    \"\"\"Computes standard gan loss between logits and labels\n",
        "    \"\"\"\n",
        "    if is_real:\n",
        "        labels = tf.ones_like(logits)\n",
        "    else:\n",
        "        labels = tf.zeros_like(logits)\n",
        "\n",
        "    return tf.compat.v1.losses.sigmoid_cross_entropy(\n",
        "        multi_class_labels=labels, logits=logits\n",
        "    )"
      ],
      "execution_count": null,
      "outputs": []
    },
    {
      "cell_type": "markdown",
      "metadata": {
        "id": "j-0SdVc7zeTf",
        "colab_type": "text"
      },
      "source": [
        "Create Generator and Discriminator networks"
      ]
    },
    {
      "cell_type": "code",
      "metadata": {
        "id": "7ZtCgZ7r0GIF",
        "colab_type": "code",
        "colab": {}
      },
      "source": [
        "N_Z = 64\n",
        "# resembles a decoder architecture\n",
        "generator = [\n",
        "    tf.keras.layers.Dense(units=7 * 7 * 64, activation=\"relu\"),\n",
        "    tf.keras.layers.Reshape(target_shape=(7, 7, 64)),\n",
        "    tf.keras.layers.Conv2DTranspose(\n",
        "        filters=64, kernel_size=3, strides=(2, 2), padding=\"SAME\", activation=\"relu\"\n",
        "    ),\n",
        "    tf.keras.layers.Conv2DTranspose(\n",
        "        filters=32, kernel_size=3, strides=(2, 2), padding=\"SAME\", activation=\"relu\"\n",
        "    ),\n",
        "    tf.keras.layers.Conv2DTranspose(\n",
        "        filters=1, kernel_size=3, strides=(1, 1), padding=\"SAME\", activation=\"sigmoid\"\n",
        "    ),\n",
        "]\n",
        "\n",
        "# resembles an encoder architecture\n",
        "discriminator = [\n",
        "    tf.keras.layers.InputLayer(input_shape=DIMS),\n",
        "    tf.keras.layers.Conv2D(\n",
        "        filters=32, kernel_size=3, strides=(2, 2), activation=\"relu\"\n",
        "    ),\n",
        "    tf.keras.layers.Conv2D(\n",
        "        filters=64, kernel_size=3, strides=(2, 2), activation=\"relu\"\n",
        "    ),\n",
        "    tf.keras.layers.Flatten(),\n",
        "    tf.keras.layers.Dense(units=1, activation=None),\n",
        "]"
      ],
      "execution_count": null,
      "outputs": []
    },
    {
      "cell_type": "markdown",
      "metadata": {
        "id": "v0n8pYJP0h5P",
        "colab_type": "text"
      },
      "source": [
        "Create the model"
      ]
    },
    {
      "cell_type": "code",
      "metadata": {
        "id": "sllfYZlN0kZx",
        "colab_type": "code",
        "colab": {}
      },
      "source": [
        "# optimizers\n",
        "gen_optimizer = tf.keras.optimizers.Adam(0.001, beta_1=0.5)\n",
        "disc_optimizer = tf.keras.optimizers.RMSprop(0.005)# train the model\n",
        "# model\n",
        "model = GAN(\n",
        "    gen = generator,\n",
        "    disc = discriminator,\n",
        "    gen_optimizer = gen_optimizer,\n",
        "    disc_optimizer = disc_optimizer,\n",
        "    n_Z = N_Z\n",
        ")"
      ],
      "execution_count": null,
      "outputs": []
    },
    {
      "cell_type": "markdown",
      "metadata": {
        "id": "NR0LsvdJ1X4n",
        "colab_type": "text"
      },
      "source": [
        "Update losses dataframe"
      ]
    },
    {
      "cell_type": "code",
      "metadata": {
        "id": "c6IXCU7t1bR2",
        "colab_type": "code",
        "colab": {}
      },
      "source": [
        "# a pandas dataframe to save the loss information to\n",
        "losses = pd.DataFrame(columns = ['disc_loss', 'gen_loss'])"
      ],
      "execution_count": null,
      "outputs": []
    },
    {
      "cell_type": "code",
      "metadata": {
        "id": "kd27nYS_3Kei",
        "colab_type": "code",
        "colab": {}
      },
      "source": [
        "def plot_reconstruct(model, nex=8, zm=2):\n",
        "    samples = model.generate(tf.random.normal(shape=(BATCH_SIZE, N_Z)))\n",
        "    fig, axs = plt.subplots(ncols=nex, nrows=1, figsize=(zm * nex, zm))\n",
        "    for axi in range(nex):\n",
        "        axs[axi].matshow(\n",
        "                    samples.numpy()[axi].squeeze(), cmap=plt.cm.Greys, vmin=0, vmax=1\n",
        "                )\n",
        "        axs[axi].axis('off')\n",
        "    plt.show()"
      ],
      "execution_count": null,
      "outputs": []
    },
    {
      "cell_type": "markdown",
      "metadata": {
        "id": "QqmbKBtB0yCC",
        "colab_type": "text"
      },
      "source": [
        "Train the Model"
      ]
    },
    {
      "cell_type": "code",
      "metadata": {
        "id": "aRbQIN4700c8",
        "colab_type": "code",
        "colab": {}
      },
      "source": [
        "n_epochs = 50\n",
        "for epoch in range(n_epochs):\n",
        "    # train\n",
        "    for batch, train_x in tqdm(\n",
        "        zip(range(N_TRAIN_BATCHES), train_dataset), total=N_TRAIN_BATCHES\n",
        "    ):\n",
        "        model.train(train_x)\n",
        "    # test on holdout\n",
        "    loss = []\n",
        "    for batch, test_x in tqdm(\n",
        "        zip(range(N_TEST_BATCHES), test_dataset), total=N_TEST_BATCHES\n",
        "    ):\n",
        "        loss.append(model.compute_loss(train_x))\n",
        "    losses.loc[len(losses)] = np.mean(loss, axis=0)\n",
        "    # plot results\n",
        "    display.clear_output()\n",
        "    print(\n",
        "        \"Epoch: {} | disc_loss: {} | gen_loss: {}\".format(\n",
        "            epoch, losses.disc_loss.values[-1], losses.gen_loss.values[-1]\n",
        "        )\n",
        "    )\n",
        "    plot_reconstruct(model)"
      ],
      "execution_count": null,
      "outputs": []
    }
  ]
}