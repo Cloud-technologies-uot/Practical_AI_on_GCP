{
  "nbformat": 4,
  "nbformat_minor": 0,
  "metadata": {
    "colab": {
      "name": "Chapter_8_Bandit.ipynb",
      "provenance": [],
      "authorship_tag": "ABX9TyNsKutS09LnIHNMCTaCCc1X",
      "include_colab_link": true
    },
    "kernelspec": {
      "name": "python3",
      "display_name": "Python 3"
    }
  },
  "cells": [
    {
      "cell_type": "markdown",
      "metadata": {
        "id": "view-in-github",
        "colab_type": "text"
      },
      "source": [
        "<a href=\"https://colab.research.google.com/github/cxbxmxcx/Practical_AI_on_GCP/blob/master/Chapter_8_Bandit.ipynb\" target=\"_parent\"><img src=\"https://colab.research.google.com/assets/colab-badge.svg\" alt=\"Open In Colab\"/></a>"
      ]
    },
    {
      "cell_type": "markdown",
      "metadata": {
        "id": "4nx__nqgVAqE",
        "colab_type": "text"
      },
      "source": [
        "Setup"
      ]
    },
    {
      "cell_type": "code",
      "metadata": {
        "id": "ckH79roQU4J8",
        "colab_type": "code",
        "colab": {
          "base_uri": "https://localhost:8080/",
          "height": 34
        },
        "outputId": "99e7a362-dc58-4918-a3d2-ecedea995cbe"
      },
      "source": [
        "import random\n",
        "\n",
        "reward = [1.0, 0.5, 0.2, 0.5, 0.6, 0.1, -.5]\n",
        "arms = len(reward)\n",
        "learning_rate = .1\n",
        "episodes = 100\n",
        "Value = [0.0] * arms\n",
        "print(Value)"
      ],
      "execution_count": 1,
      "outputs": [
        {
          "output_type": "stream",
          "text": [
            "[0.0, 0.0, 0.0, 0.0, 0.0, 0.0, 0.0]\n"
          ],
          "name": "stdout"
        }
      ]
    },
    {
      "cell_type": "markdown",
      "metadata": {
        "id": "0hE_9fD-VE4Q",
        "colab_type": "text"
      },
      "source": [
        "Training"
      ]
    },
    {
      "cell_type": "code",
      "metadata": {
        "id": "njJGebZBVEXB",
        "colab_type": "code",
        "colab": {
          "base_uri": "https://localhost:8080/",
          "height": 34
        },
        "outputId": "9fc52e5c-3f69-464b-8d4b-d0f426ccc105"
      },
      "source": [
        "for i in range(0, episodes):\n",
        "    action = random.randint(0,arms-1)\n",
        "    Value[action] = Value[action] + learning_rate * (\n",
        "        reward[action] - Value[action])\n",
        "\n",
        "print(Value)"
      ],
      "execution_count": 2,
      "outputs": [
        {
          "output_type": "stream",
          "text": [
            "[0.7712320754503901, 0.39705443395267553, 0.13026431198, 0.4392116727047154, 0.4999369098020007, 0.0612579511, -0.39705443395267553]\n"
          ],
          "name": "stdout"
        }
      ]
    }
  ]
}