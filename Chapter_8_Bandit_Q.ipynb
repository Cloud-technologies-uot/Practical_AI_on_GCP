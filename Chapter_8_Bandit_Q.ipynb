{
  "nbformat": 4,
  "nbformat_minor": 0,
  "metadata": {
    "colab": {
      "name": "Chapter_8_Bandit_Q.ipynb",
      "provenance": [],
      "authorship_tag": "ABX9TyP/dVyQXr15YP+iy441Sfj4",
      "include_colab_link": true
    },
    "kernelspec": {
      "name": "python3",
      "display_name": "Python 3"
    }
  },
  "cells": [
    {
      "cell_type": "markdown",
      "metadata": {
        "id": "view-in-github",
        "colab_type": "text"
      },
      "source": [
        "<a href=\"https://colab.research.google.com/github/cxbxmxcx/Practical_AI_on_GCP/blob/master/Chapter_8_Bandit_Q.ipynb\" target=\"_parent\"><img src=\"https://colab.research.google.com/assets/colab-badge.svg\" alt=\"Open In Colab\"/></a>"
      ]
    },
    {
      "cell_type": "markdown",
      "metadata": {
        "id": "u8usQhDKu8kg",
        "colab_type": "text"
      },
      "source": [
        "Setup\n"
      ]
    },
    {
      "cell_type": "code",
      "metadata": {
        "id": "HV9g1xGZuzSy",
        "colab_type": "code",
        "colab": {
          "base_uri": "https://localhost:8080/",
          "height": 54
        },
        "outputId": "cc532b33-8dc0-46e4-d0a3-a68053570194"
      },
      "source": [
        "import random\n",
        "\n",
        "arms = 7\n",
        "bandits = 7\n",
        "learning_rate = .1\n",
        "gamma = .9\n",
        "episodes = 10000\n",
        "reward = []\n",
        "for i in range(bandits):  \n",
        "    reward.append([])       \n",
        "    for j in range(arms): \n",
        "        reward[i].append(random.uniform(-1,1))\n",
        "print(reward)"
      ],
      "execution_count": 1,
      "outputs": [
        {
          "output_type": "stream",
          "text": [
            "[[-0.5799575393031386, -0.5061875083922274, 0.45335190367818035, 0.7199544016257384, 0.40376944037486573, 0.7519737574124903, -0.7739769480085172], [-0.29030110852356206, 0.9687997178916428, -0.04493999303128926, -0.8020202680478303, -0.12023137494353464, 0.4344817808442276, 0.48479232161826924], [0.5586821140801261, 0.7301850806836632, -0.5957171387541704, -0.10220874985373829, -0.5956329149467305, -0.13053865784772878, -0.7524540429978925], [0.445671584272036, 0.9890238274481971, 0.17118464938321254, 0.058886849640501726, -0.17653596371493396, -0.4272994028161754, 0.22519966063912844], [0.29845239971887527, -0.35982870843038506, 0.7463073140481962, -0.1800501713653615, -0.0005787485068382558, -0.8685589102155231, -0.7735379899649089], [-0.8899312105747492, 0.03721387670515197, 0.11925276980485222, -0.9158213687398651, 0.21835392573604406, 0.39636947580280935, -0.9164081769879651], [-0.48727131857190376, 0.8411052459520387, -0.9497839046923113, -0.07072597026756111, -0.03791725133089763, 0.14387825558367817, 0.979124779897445]]\n"
          ],
          "name": "stdout"
        }
      ]
    },
    {
      "cell_type": "markdown",
      "metadata": {
        "id": "k4J6I2ETvPyN",
        "colab_type": "text"
      },
      "source": [
        "Initialize Q table"
      ]
    },
    {
      "cell_type": "code",
      "metadata": {
        "id": "qRNCNh6xvUWJ",
        "colab_type": "code",
        "colab": {
          "base_uri": "https://localhost:8080/",
          "height": 54
        },
        "outputId": "363b4909-80c1-4d0f-97fc-126a22cb8365"
      },
      "source": [
        "Q = []\n",
        "for i in range(bandits):  \n",
        "    Q.append([])       \n",
        "    for j in range(arms): \n",
        "        Q[i].append(10.0)\n",
        "print(Q)\n",
        "\n",
        "def greedy(values):\n",
        "    return values.index(max(values))"
      ],
      "execution_count": 2,
      "outputs": [
        {
          "output_type": "stream",
          "text": [
            "[[10.0, 10.0, 10.0, 10.0, 10.0, 10.0, 10.0], [10.0, 10.0, 10.0, 10.0, 10.0, 10.0, 10.0], [10.0, 10.0, 10.0, 10.0, 10.0, 10.0, 10.0], [10.0, 10.0, 10.0, 10.0, 10.0, 10.0, 10.0], [10.0, 10.0, 10.0, 10.0, 10.0, 10.0, 10.0], [10.0, 10.0, 10.0, 10.0, 10.0, 10.0, 10.0], [10.0, 10.0, 10.0, 10.0, 10.0, 10.0, 10.0]]\n"
          ],
          "name": "stdout"
        }
      ]
    },
    {
      "cell_type": "markdown",
      "metadata": {
        "id": "WEtwCUb5vZAP",
        "colab_type": "text"
      },
      "source": [
        "Learn Function"
      ]
    },
    {
      "cell_type": "code",
      "metadata": {
        "id": "Ajg8Y0I7va_L",
        "colab_type": "code",
        "colab": {}
      },
      "source": [
        "def learn(state, action, reward, next_state):\n",
        "    q = gamma * max(Q[next_state])    \n",
        "    q += reward\n",
        "    q -= Q[state][action]\n",
        "    q *= learning_rate\n",
        "    q += Q[state][action]\n",
        "    Q[state][action] = q"
      ],
      "execution_count": 3,
      "outputs": []
    },
    {
      "cell_type": "markdown",
      "metadata": {
        "id": "qgxOSgnUviXI",
        "colab_type": "text"
      },
      "source": [
        "Training"
      ]
    },
    {
      "cell_type": "code",
      "metadata": {
        "id": "ppgGQ929vkEq",
        "colab_type": "code",
        "colab": {
          "base_uri": "https://localhost:8080/",
          "height": 54
        },
        "outputId": "3564682e-6e17-4da4-91dc-8049475dba59"
      },
      "source": [
        "# agent learns\n",
        "bandit = random.randint(0,bandits-1)\n",
        "for i in range(0, episodes):\n",
        "    last_bandit = bandit\n",
        "    bandit = random.randint(0,bandits-1)\n",
        "    action = greedy(Q[bandit]) \n",
        "    r = reward[last_bandit][action]\n",
        "    learn(last_bandit, action, r, bandit)\n",
        "\n",
        "print(Q)"
      ],
      "execution_count": 4,
      "outputs": [
        {
          "output_type": "stream",
          "text": [
            "[[6.402531370545294, 6.136495203505859, 7.058271562587402, 7.604978997969943, 7.059418184032541, 7.034157999790025, 6.5269112216259595], [6.677993947617493, 7.757257335664607, 6.6105042946775, 6.082291584827691, 6.410004789815462, 6.77692599422065, 7.843015502104407], [7.440152438380461, 7.571735225074293, 6.058314162663692, 6.777451265102968, 6.027072209217121, 6.250796268362648, 6.578428584305719], [7.448144053256269, 7.7003291677861405, 6.87912093703383, 6.931328910328215, 6.306896226586706, 6.022279678890322, 7.596362689489609], [7.316311412348006, 6.4126715257779345, 7.361673624300806, 6.6953503503613785, 6.435798306794958, 5.469037196092883, 6.540423285344858], [6.199926707551287, 6.762436464917088, 6.771985851786943, 5.96003721475996, 6.772089217860252, 6.7552865448330195, 6.367599654008153], [6.484453038383298, 7.55309113416741, 5.67318019055581, 6.803141331106299, 6.678349751793134, 6.429180691647583, 8.236423551534125]]\n"
          ],
          "name": "stdout"
        }
      ]
    }
  ]
}