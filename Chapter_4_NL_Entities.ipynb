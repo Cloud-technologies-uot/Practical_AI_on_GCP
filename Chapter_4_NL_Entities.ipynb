{
  "nbformat": 4,
  "nbformat_minor": 0,
  "metadata": {
    "colab": {
      "name": "Chapter_4_NL_Entities.ipynb",
      "provenance": [],
      "include_colab_link": true
    },
    "kernelspec": {
      "name": "python3",
      "display_name": "Python 3"
    }
  },
  "cells": [
    {
      "cell_type": "markdown",
      "metadata": {
        "id": "view-in-github",
        "colab_type": "text"
      },
      "source": [
        "<a href=\"https://colab.research.google.com/github/cxbxmxcx/Practical_AI_on_GCP/blob/master/Chapter_4_NL_Entities.ipynb\" target=\"_parent\"><img src=\"https://colab.research.google.com/assets/colab-badge.svg\" alt=\"Open In Colab\"/></a>"
      ]
    },
    {
      "cell_type": "markdown",
      "metadata": {
        "id": "QCTJkH-zT4y-",
        "colab_type": "text"
      },
      "source": [
        "### Security\n",
        "\n",
        "First things first - we need to authenticate against the Google Cloud APIs.\n",
        "\n",
        "#### Getting a Google API Credential.\n",
        "\n",
        "First, visit <a href=\"http://console.cloud.google.com/apis\">API console</a>, choose \"Credentials\" on the left-hand menu.  Choose \"Create Credentials\" and generate an API key for your application. You should probably restrict it by IP address to prevent abuse, but for now, just  leave that field blank and delete the API key after trying out this demo.\n",
        "\n",
        "Then, when you have your key, you will enter it in this first executable cell:"
      ]
    },
    {
      "cell_type": "code",
      "metadata": {
        "id": "m-PIjmwNJR7z",
        "colab_type": "code",
        "colab": {
          "base_uri": "https://localhost:8080/",
          "height": 34
        },
        "outputId": "b86a9c28-fb79-43aa-ea16-07af86968810"
      },
      "source": [
        "import getpass\n",
        "\n",
        "APIKEY = getpass.getpass()"
      ],
      "execution_count": null,
      "outputs": [
        {
          "output_type": "stream",
          "text": [
            "··········\n"
          ],
          "name": "stdout"
        }
      ]
    },
    {
      "cell_type": "code",
      "metadata": {
        "id": "a5GgxTR9JVjy",
        "colab_type": "code",
        "colab": {}
      },
      "source": [
        "from googleapiclient.discovery import build\n",
        "lservice = build('language', 'v1beta1', developerKey=APIKEY)"
      ],
      "execution_count": null,
      "outputs": []
    },
    {
      "cell_type": "code",
      "metadata": {
        "id": "QwoRkDjUMVY-",
        "colab_type": "code",
        "colab": {}
      },
      "source": [
        "quotes = [\n",
        "  'I\\'m afraid that the following syllogism may be used by some in the future. Turing believes machines think, Turing lies with men Therefore machines do not think', # Alan Turing\n",
        "  'The question of whether a computer can think is no more interesting than the question of whether a submarine can swim.', # Edsger W. Dijkstra\n",
        "  'By far the greatest danger of Artificial Intelligence is that people conclude too early that they understand it.', # Eliezer Yudkowsky\n",
        "  'What use was time to those who\\'d soon achieve Digital Immortality?', # Clyde Dsouza\n",
        "  'Primary aim of quantum artificial intelligence is to improve human freedom, dignity, equality, security, and total well-being.', # Amit Ray\n",
        "  'AI winters were not due to imagination traps, but due to lack of imaginations. Imaginations bring order out of chaos. Deep learning with deep imagination is the road map to AI springs and AI autumns.' # Amit Ray\n",
        "]"
      ],
      "execution_count": null,
      "outputs": []
    },
    {
      "cell_type": "code",
      "metadata": {
        "id": "vhi6ypHOJw9I",
        "colab_type": "code",
        "colab": {
          "base_uri": "https://localhost:8080/",
          "height": 139
        },
        "outputId": "89af7494-5174-446c-cd30-2fc3aa7ad3a0"
      },
      "source": [
        "for quote in quotes:\n",
        "  response = lservice.documents().analyzeEntities(\n",
        "    body={\n",
        "      'document': {\n",
        "         'type': 'PLAIN_TEXT',\n",
        "         'content': quote\n",
        "      }\n",
        "    }).execute()\n",
        "  print(response)\n"
      ],
      "execution_count": null,
      "outputs": [
        {
          "output_type": "stream",
          "text": [
            "{'entities': [{'name': 'syllogism', 'type': 'OTHER', 'metadata': {}, 'salience': 0.41473144, 'mentions': [{'text': {'content': 'syllogism', 'beginOffset': -1}, 'type': 'COMMON'}]}, {'name': 'some', 'type': 'PERSON', 'metadata': {}, 'salience': 0.22704022, 'mentions': [{'text': {'content': 'some', 'beginOffset': -1}, 'type': 'COMMON'}]}, {'name': 'machines', 'type': 'OTHER', 'metadata': {}, 'salience': 0.12416418, 'mentions': [{'text': {'content': 'machines', 'beginOffset': -1}, 'type': 'COMMON'}]}, {'name': 'machines', 'type': 'OTHER', 'metadata': {}, 'salience': 0.094243616, 'mentions': [{'text': {'content': 'machines', 'beginOffset': -1}, 'type': 'COMMON'}]}, {'name': 'men', 'type': 'PERSON', 'metadata': {}, 'salience': 0.08300187, 'mentions': [{'text': {'content': 'men', 'beginOffset': -1}, 'type': 'COMMON'}]}, {'name': 'Turing', 'type': 'PERSON', 'metadata': {'mid': '/m/0n00', 'wikipedia_url': 'https://en.wikipedia.org/wiki/Alan_Turing'}, 'salience': 0.056818664, 'mentions': [{'text': {'content': 'Turing', 'beginOffset': -1}, 'type': 'PROPER'}, {'text': {'content': 'Turing', 'beginOffset': -1}, 'type': 'PROPER'}]}], 'language': 'en'}\n",
            "{'entities': [{'name': 'question', 'type': 'OTHER', 'metadata': {}, 'salience': 0.5910207, 'mentions': [{'text': {'content': 'question', 'beginOffset': -1}, 'type': 'COMMON'}]}, {'name': 'computer', 'type': 'CONSUMER_GOOD', 'metadata': {}, 'salience': 0.23458754, 'mentions': [{'text': {'content': 'computer', 'beginOffset': -1}, 'type': 'COMMON'}]}, {'name': 'submarine', 'type': 'OTHER', 'metadata': {}, 'salience': 0.11488107, 'mentions': [{'text': {'content': 'submarine', 'beginOffset': -1}, 'type': 'COMMON'}]}, {'name': 'question', 'type': 'OTHER', 'metadata': {}, 'salience': 0.059510715, 'mentions': [{'text': {'content': 'question', 'beginOffset': -1}, 'type': 'COMMON'}]}], 'language': 'en'}\n",
            "{'entities': [{'name': 'people', 'type': 'PERSON', 'metadata': {}, 'salience': 0.49199003, 'mentions': [{'text': {'content': 'people', 'beginOffset': -1}, 'type': 'COMMON'}]}, {'name': 'danger', 'type': 'OTHER', 'metadata': {}, 'salience': 0.37190732, 'mentions': [{'text': {'content': 'danger', 'beginOffset': -1}, 'type': 'COMMON'}]}, {'name': 'Artificial Intelligence', 'type': 'ORGANIZATION', 'metadata': {'mid': '/m/0mkz', 'wikipedia_url': 'https://en.wikipedia.org/wiki/Artificial_intelligence'}, 'salience': 0.13610265, 'mentions': [{'text': {'content': 'Artificial Intelligence', 'beginOffset': -1}, 'type': 'PROPER'}]}], 'language': 'en'}\n",
            "{'entities': [{'name': 'use', 'type': 'OTHER', 'metadata': {}, 'salience': 0.8198005, 'mentions': [{'text': {'content': 'use', 'beginOffset': -1}, 'type': 'COMMON'}]}, {'name': 'Immortality', 'type': 'OTHER', 'metadata': {}, 'salience': 0.18019949, 'mentions': [{'text': {'content': 'Immortality', 'beginOffset': -1}, 'type': 'COMMON'}]}], 'language': 'en'}\n",
            "{'entities': [{'name': 'aim', 'type': 'OTHER', 'metadata': {}, 'salience': 0.42249072, 'mentions': [{'text': {'content': 'aim', 'beginOffset': -1}, 'type': 'COMMON'}]}, {'name': 'artificial intelligence', 'type': 'OTHER', 'metadata': {}, 'salience': 0.15916027, 'mentions': [{'text': {'content': 'artificial intelligence', 'beginOffset': -1}, 'type': 'COMMON'}]}, {'name': 'human freedom', 'type': 'OTHER', 'metadata': {}, 'salience': 0.11188117, 'mentions': [{'text': {'content': 'human freedom', 'beginOffset': -1}, 'type': 'COMMON'}]}, {'name': 'dignity', 'type': 'OTHER', 'metadata': {}, 'salience': 0.11188117, 'mentions': [{'text': {'content': 'dignity', 'beginOffset': -1}, 'type': 'COMMON'}]}, {'name': 'equality', 'type': 'OTHER', 'metadata': {}, 'salience': 0.10318495, 'mentions': [{'text': {'content': 'equality', 'beginOffset': -1}, 'type': 'COMMON'}]}, {'name': 'well-being', 'type': 'OTHER', 'metadata': {}, 'salience': 0.05594438, 'mentions': [{'text': {'content': 'well-being', 'beginOffset': -1}, 'type': 'COMMON'}]}, {'name': 'security', 'type': 'OTHER', 'metadata': {}, 'salience': 0.035457343, 'mentions': [{'text': {'content': 'security', 'beginOffset': -1}, 'type': 'COMMON'}]}], 'language': 'en'}\n",
            "{'entities': [{'name': 'learning', 'type': 'OTHER', 'metadata': {}, 'salience': 0.2893225, 'mentions': [{'text': {'content': 'learning', 'beginOffset': -1}, 'type': 'COMMON'}, {'text': {'content': 'road map', 'beginOffset': -1}, 'type': 'COMMON'}]}, {'name': 'AI winters', 'type': 'PERSON', 'metadata': {}, 'salience': 0.15229255, 'mentions': [{'text': {'content': 'AI winters', 'beginOffset': -1}, 'type': 'COMMON'}]}, {'name': 'imagination traps', 'type': 'OTHER', 'metadata': {}, 'salience': 0.1310052, 'mentions': [{'text': {'content': 'imagination traps', 'beginOffset': -1}, 'type': 'COMMON'}]}, {'name': 'imaginations', 'type': 'OTHER', 'metadata': {}, 'salience': 0.11908499, 'mentions': [{'text': {'content': 'imaginations', 'beginOffset': -1}, 'type': 'COMMON'}]}, {'name': 'lack', 'type': 'OTHER', 'metadata': {}, 'salience': 0.08995037, 'mentions': [{'text': {'content': 'lack', 'beginOffset': -1}, 'type': 'COMMON'}]}, {'name': 'Imaginations', 'type': 'OTHER', 'metadata': {}, 'salience': 0.06299735, 'mentions': [{'text': {'content': 'Imaginations', 'beginOffset': -1}, 'type': 'COMMON'}]}, {'name': 'chaos', 'type': 'OTHER', 'metadata': {}, 'salience': 0.040909357, 'mentions': [{'text': {'content': 'chaos', 'beginOffset': -1}, 'type': 'COMMON'}]}, {'name': 'order', 'type': 'OTHER', 'metadata': {}, 'salience': 0.038505517, 'mentions': [{'text': {'content': 'order', 'beginOffset': -1}, 'type': 'COMMON'}]}, {'name': 'AI springs', 'type': 'OTHER', 'metadata': {}, 'salience': 0.030796092, 'mentions': [{'text': {'content': 'AI springs', 'beginOffset': -1}, 'type': 'COMMON'}]}, {'name': 'AI', 'type': 'OTHER', 'metadata': {}, 'salience': 0.0269452, 'mentions': [{'text': {'content': 'AI', 'beginOffset': -1}, 'type': 'COMMON'}]}, {'name': 'imagination', 'type': 'OTHER', 'metadata': {}, 'salience': 0.018190859, 'mentions': [{'text': {'content': 'imagination', 'beginOffset': -1}, 'type': 'COMMON'}]}], 'language': 'en'}\n"
          ],
          "name": "stdout"
        }
      ]
    }
  ]
}