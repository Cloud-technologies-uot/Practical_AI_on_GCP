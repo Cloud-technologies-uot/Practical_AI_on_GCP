{
  "nbformat": 4,
  "nbformat_minor": 0,
  "metadata": {
    "colab": {
      "name": "Chapter_10_Deploy.ipynb",
      "provenance": [],
      "collapsed_sections": [],
      "authorship_tag": "ABX9TyNVC0tmX/S0/luOiJFxBL7L",
      "include_colab_link": true
    },
    "kernelspec": {
      "name": "python3",
      "display_name": "Python 3"
    }
  },
  "cells": [
    {
      "cell_type": "markdown",
      "metadata": {
        "id": "view-in-github",
        "colab_type": "text"
      },
      "source": [
        "<a href=\"https://colab.research.google.com/github/cxbxmxcx/Practical_AI_on_GCP/blob/master/Chapter_10_Deploy.ipynb\" target=\"_parent\"><img src=\"https://colab.research.google.com/assets/colab-badge.svg\" alt=\"Open In Colab\"/></a>"
      ]
    },
    {
      "cell_type": "code",
      "metadata": {
        "id": "3icVspMTHI8M",
        "colab_type": "code",
        "colab": {
          "base_uri": "https://localhost:8080/",
          "height": 211
        },
        "outputId": "e3953199-bc64-4922-d702-aca662467df8"
      },
      "source": [
        "!gcloud auth login"
      ],
      "execution_count": null,
      "outputs": [
        {
          "output_type": "stream",
          "text": [
            "Go to the following link in your browser:\n",
            "\n",
            "    https://accounts.google.com/o/oauth2/auth?client_id=32555940559.apps.googleusercontent.com&redirect_uri=urn%3Aietf%3Awg%3Aoauth%3A2.0%3Aoob&scope=openid+https%3A%2F%2Fwww.googleapis.com%2Fauth%2Fuserinfo.email+https%3A%2F%2Fwww.googleapis.com%2Fauth%2Fcloud-platform+https%3A%2F%2Fwww.googleapis.com%2Fauth%2Fappengine.admin+https%3A%2F%2Fwww.googleapis.com%2Fauth%2Fcompute+https%3A%2F%2Fwww.googleapis.com%2Fauth%2Faccounts.reauth&code_challenge=lIMpMFRAs7Zy2_VUd0vCT5VfQPCmeGTjWaaAe8IrrUU&code_challenge_method=S256&access_type=offline&response_type=code&prompt=select_account\n",
            "\n",
            "\n",
            "Enter verification code: 4/0QHc85s2LHSUNpSbHgKMthdBuxWQ6d-W1iXEtAHQbz2poM4uaYJvlgc\n",
            "\n",
            "You are now logged in as [cxbxmxcx@gmail.com].\n",
            "Your current project is [None].  You can change this setting by running:\n",
            "  $ gcloud config set project PROJECT_ID\n"
          ],
          "name": "stdout"
        }
      ]
    },
    {
      "cell_type": "code",
      "metadata": {
        "id": "6QVv_YAgHYYo",
        "colab_type": "code",
        "colab": {
          "base_uri": "https://localhost:8080/",
          "height": 52
        },
        "outputId": "1f20f16b-f5ff-40b4-f111-fcf8f900102a"
      },
      "source": [
        "!gcloud config set project practical"
      ],
      "execution_count": null,
      "outputs": [
        {
          "output_type": "stream",
          "text": [
            "Updated property [core/project].\n",
            "\u001b[1;33mWARNING:\u001b[0m You do not appear to have access to project [practical] or it does not exist.\n"
          ],
          "name": "stdout"
        }
      ]
    },
    {
      "cell_type": "code",
      "metadata": {
        "id": "Ofw7D8TFJ0-I",
        "colab_type": "code",
        "colab": {
          "base_uri": "https://localhost:8080/",
          "height": 52
        },
        "outputId": "20ebf503-a655-47a2-abc5-394abe31d18a"
      },
      "source": [
        " BUCKET_NAME = 'aigcp'\n",
        " REGION = 'us-central1'\n",
        " !gsutil mb -l $REGION gs://$BUCKET_NAME"
      ],
      "execution_count": null,
      "outputs": [
        {
          "output_type": "stream",
          "text": [
            "Creating gs://aigcp/...\n",
            "BadRequestException: 400 Unknown project id: practical\n"
          ],
          "name": "stdout"
        }
      ]
    },
    {
      "cell_type": "code",
      "metadata": {
        "id": "BSrjIGLBGwAP",
        "colab_type": "code",
        "colab": {
          "base_uri": "https://localhost:8080/",
          "height": 121
        },
        "outputId": "02f30317-bdd3-4e5c-bd31-2c767a54ba2a"
      },
      "source": [
        "!git clone https://github.com/ryfeus/gcf-packs\n",
        "%cd gcf-packs/tensorflow2.0/example/\n",
        "!gcloud functions deploy handler --runtime python37 --trigger-http --memory 2048\n",
        "!gcloud functions call handler"
      ],
      "execution_count": null,
      "outputs": [
        {
          "output_type": "stream",
          "text": [
            "fatal: destination path 'gcf-packs' already exists and is not an empty directory.\n",
            "/content/gcf-packs/tensorflow2.0/example\n",
            "\u001b[1;31mERROR:\u001b[0m (gcloud.functions.deploy) Uncompressed deployment is 1426174524B, bigger than maximum allowed size of 536870912B.\n",
            "error: |-\n",
            "  Error: function terminated. Recommended action: inspect logs for termination reason. Details:\n",
            "  Bucket names must start and end with a number or letter.\n"
          ],
          "name": "stdout"
        }
      ]
    }
  ]
}