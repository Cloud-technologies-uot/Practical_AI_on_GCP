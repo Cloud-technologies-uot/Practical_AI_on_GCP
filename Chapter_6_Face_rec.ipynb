{
  "nbformat": 4,
  "nbformat_minor": 0,
  "metadata": {
    "colab": {
      "name": "Chapter_6_Face_rec.ipynb",
      "provenance": [],
      "private_outputs": true,
      "collapsed_sections": [],
      "include_colab_link": true
    },
    "kernelspec": {
      "name": "python3",
      "display_name": "Python 3"
    },
    "accelerator": "GPU"
  },
  "cells": [
    {
      "cell_type": "markdown",
      "metadata": {
        "id": "view-in-github",
        "colab_type": "text"
      },
      "source": [
        "<a href=\"https://colab.research.google.com/github/cxbxmxcx/Practical_AI_on_GCP/blob/master/Chapter_6_Face_rec.ipynb\" target=\"_parent\"><img src=\"https://colab.research.google.com/assets/colab-badge.svg\" alt=\"Open In Colab\"/></a>"
      ]
    },
    {
      "cell_type": "code",
      "metadata": {
        "id": "hI6HWn4z3z1E",
        "colab_type": "code",
        "colab": {}
      },
      "source": [
        "from __future__ import absolute_import, division, print_function, unicode_literals\n",
        "\n",
        "import tensorflow as tf\n",
        "print(\"Num GPUs Available: \", len(tf.config.experimental.list_physical_devices('GPU')))"
      ],
      "execution_count": null,
      "outputs": []
    },
    {
      "cell_type": "code",
      "metadata": {
        "id": "oUMHbAmh2cDm",
        "colab_type": "code",
        "colab": {}
      },
      "source": [
        "!pip install face_recognition\n",
        "!pip install --upgrade youtube_dl"
      ],
      "execution_count": null,
      "outputs": []
    },
    {
      "cell_type": "code",
      "metadata": {
        "id": "wCEal84pnPR8",
        "colab_type": "code",
        "colab": {}
      },
      "source": [
        "from __future__ import unicode_literals\n",
        "import youtube_dl\n",
        "\n",
        "video_url = 'https://www.youtube.com/watch?v=DHdkpSAteG0'\n",
        "\n",
        "download_options = {}\n",
        "download = youtube_dl.YoutubeDL(download_options)\n",
        "info_dict = download.extract_info(video_url, download=False)\n",
        "formats = info_dict.get('formats',None)\n",
        "\n",
        "for f in formats:    \n",
        "  if f.get('format_note',None) == '144p':        \n",
        "    url = f.get('url',None)  \n",
        "\n",
        "print(url)"
      ],
      "execution_count": null,
      "outputs": []
    },
    {
      "cell_type": "code",
      "metadata": {
        "id": "zx0ehR76nX4Z",
        "colab_type": "code",
        "colab": {}
      },
      "source": [
        "import face_recognition\n",
        "import cv2\n",
        "\n",
        "input_movie = cv2.VideoCapture(url)\n",
        "length = int(input_movie.get(cv2.CAP_PROP_FRAME_COUNT))\n",
        "print(length)"
      ],
      "execution_count": null,
      "outputs": []
    },
    {
      "cell_type": "code",
      "metadata": {
        "id": "0PdpD5F4qOV0",
        "colab_type": "code",
        "colab": {}
      },
      "source": [
        "%%bash\n",
        "git clone https://github.com/gurugaurav/bing_image_downloader\n",
        "cd bing_image_downloader\n",
        "pip install ."
      ],
      "execution_count": null,
      "outputs": []
    },
    {
      "cell_type": "code",
      "metadata": {
        "id": "9JJzB80TrHgW",
        "colab_type": "code",
        "colab": {}
      },
      "source": [
        "from bing_image_downloader import downloader\n",
        "keywords = \"will ferrel\"\n",
        "downloader.download(\"will ferrel\", limit=100, adult_filter_off=False, force_replace=True)"
      ],
      "execution_count": null,
      "outputs": []
    },
    {
      "cell_type": "code",
      "metadata": {
        "id": "8KmGyBUWtnxt",
        "colab_type": "code",
        "colab": {}
      },
      "source": [
        "path = '/content/dataset/bing/will ferrel'\n",
        "import os\n",
        "from os import listdir\n",
        "from os.path import isfile, join\n",
        "files = [path + '/' + f for f in listdir(path) if isfile(join(path, f))]\n",
        "print(files)\n",
        "\n",
        "encoded_faces = []\n",
        "for file in files:\n",
        "  if os.path.isfile(file):\n",
        "    print('Encoding image - ' + file)\n",
        "    img = face_recognition.load_image_file(file)\n",
        "    img_enc = face_recognition.face_encodings(img)[0]\n",
        "    encoded_faces.append(img_enc)\n",
        "\n",
        "print(encoded_faces[0])"
      ],
      "execution_count": null,
      "outputs": []
    },
    {
      "cell_type": "code",
      "metadata": {
        "id": "SDAV-wAor8ZT",
        "colab_type": "code",
        "colab": {}
      },
      "source": [
        "from google.colab.patches import cv2_imshow\n",
        "\n",
        "face_locations = []\n",
        "face_encodings = []\n",
        "face_names = []\n",
        "frame_number = 0\n",
        "\n",
        "while True:\n",
        "    ret, frame = input_movie.read()\n",
        "    frame_number += 1\n",
        "\n",
        "    if not ret:\n",
        "        break\n",
        "    \n",
        "    rgb_frame = frame[:, :, ::-1]\n",
        "\n",
        "    face_locations = face_recognition.face_locations(rgb_frame)\n",
        "    face_encodings = face_recognition.face_encodings(rgb_frame, face_locations)\n",
        "\n",
        "    face_names = []\n",
        "    for face_encoding in face_encodings:        \n",
        "        match = face_recognition.compare_faces(encoded_faces, face_encoding, tolerance=0.50)\n",
        "        face_names.append(keywords)\n",
        "\n",
        "    for (top, right, bottom, left), name in zip(face_locations, face_names):\n",
        "        if not name:\n",
        "            continue\n",
        "\n",
        "        cv2.rectangle(frame, (left, top), (right, bottom), (0, 0, 255), 2)\n",
        "\n",
        "        cv2.rectangle(frame, (left, bottom - 25), (right, bottom), (0, 0, 255), cv2.FILLED)\n",
        "        font = cv2.FONT_HERSHEY_DUPLEX\n",
        "        cv2.putText(frame, name, (left + 6, bottom - 6), font, 0.5, (255, 255, 255), 1)\n",
        "    \n",
        "    cv2_imshow(frame)\n",
        "input_movie.release()\n",
        "cv2.destroyAllWindows()"
      ],
      "execution_count": null,
      "outputs": []
    }
  ]
}